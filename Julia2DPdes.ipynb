{
 "cells": [
  {
   "cell_type": "code",
   "execution_count": 57,
   "metadata": {},
   "outputs": [],
   "source": [
    "using PyPlot\n",
    "fig, ax = subplots(figsize=(7,7)) \n",
    "#pos = ax.imshow(phi[Int(centery)-radius-10:Int(centery)+radius+10, 1:radius+10], cmap=\"hot\")\n",
    "pos = ax.imshow(phi, cmap=\"hot\")\n",
    "fig.colorbar(pos, ax=ax)\n",
    "#plot(collect(LinRange(0, 1, num_spaces+1)), phi[1, :])\n",
    "savefig(\"/Users/arun/Desktop/Plots/phiprofile.png\", dpi=300)\n"
   ]
  },
  {
   "cell_type": "code",
   "execution_count": 153,
   "metadata": {},
   "outputs": [],
   "source": [
    "using PyPlot\n",
    "fig, ax = subplots(figsize=(7,7)) \n",
    "pos = ax.imshow((gradphi), cmap=\"hot\")\n",
    "fig.colorbar(pos, ax=ax)\n",
    "#plot(collect(LinRange(0, 1, num_spaces+1)), phi[1, :])\n",
    "savefig(\"/Users/arun/Desktop/Plots/gradphiprofile.png\", dpi=300)\n"
   ]
  },
  {
   "cell_type": "code",
   "execution_count": 116,
   "metadata": {},
   "outputs": [],
   "source": [
    "using PyPlot\n",
    "fig, ax = subplots(figsize=(7,7)) \n",
    "pos = ax.imshow(grad2phi, cmap=\"hot\")\n",
    "fig.colorbar(pos, ax=ax)\n",
    "#plot(collect(LinRange(0, 1, num_spaces+1)), phi[1, :])\n",
    "savefig(\"/Users/arun/Desktop/Plots/grad2phiprofile.png\", dpi=300)\n"
   ]
  },
  {
   "cell_type": "code",
   "execution_count": 59,
   "metadata": {},
   "outputs": [],
   "source": [
    "fig, ax = subplots(figsize=(7,7)) \n",
    "pos = ax.imshow(c, cmap=\"hot\")\n",
    "#plot(collect(LinRange(0, 1, num_spaces+1)), c[1, :])\n",
    "fig.colorbar(pos, ax=ax)\n",
    "savefig(\"/Users/arun/Desktop/Plots/cprofile.png\", dpi=300)"
   ]
  },
  {
   "cell_type": "code",
   "execution_count": 119,
   "metadata": {},
   "outputs": [],
   "source": [
    "fig, ax = subplots(figsize=(7,7)) \n",
    "pos = ax.imshow(gradc, cmap=\"hot\")\n",
    "fig.colorbar(pos, ax=ax)\n",
    "savefig(\"/Users/arun/Desktop/Plots/gradcprofile.png\", dpi=300)"
   ]
  },
  {
   "cell_type": "code",
   "execution_count": 90,
   "metadata": {},
   "outputs": [],
   "source": [
    "fig, ax = subplots(figsize=(7,7)) \n",
    "pos = ax.imshow(grad2c, cmap=\"hot\")\n",
    "fig.colorbar(pos, ax=ax)\n",
    "savefig(\"/Users/arun/Desktop/Plots/grad2cprofile.png\", dpi=300)"
   ]
  },
  {
   "cell_type": "code",
   "execution_count": 22,
   "metadata": {},
   "outputs": [],
   "source": [
    "fig, ax = subplots(figsize=(7,7)) \n",
    "pos = ax.imshow(rho, cmap=\"hot\")\n",
    "fig.colorbar(pos, ax=ax)\n",
    "savefig(\"/Users/arun/Desktop/Plots/rhoprofile.png\", dpi=300)"
   ]
  },
  {
   "cell_type": "code",
   "execution_count": 92,
   "metadata": {},
   "outputs": [],
   "source": [
    "fig, ax = subplots(figsize=(7,7)) \n",
    "pos = ax.imshow(gradrho, cmap=\"hot\")\n",
    "fig.colorbar(pos, ax=ax)\n",
    "savefig(\"/Users/arun/Desktop/Plots/gradrhoprofile.png\", dpi=300)"
   ]
  },
  {
   "cell_type": "code",
   "execution_count": 93,
   "metadata": {},
   "outputs": [],
   "source": [
    "fig, ax = subplots(figsize=(7,7)) \n",
    "pos = ax.imshow(grad2rho, cmap=\"hot\")\n",
    "fig.colorbar(pos, ax=ax)\n",
    "savefig(\"/Users/arun/Desktop/Plots/grad2rhoprofile.png\", dpi=300)"
   ]
  },
  {
   "cell_type": "code",
   "execution_count": 122,
   "metadata": {},
   "outputs": [],
   "source": [
    "fig, ax = subplots(figsize=(7,7)) \n",
    "pos = ax.imshow(dcdt, cmap=\"hot\")\n",
    "fig.colorbar(pos, ax=ax)\n",
    "savefig(\"/Users/arun/Desktop/Plots/dcdtprofile.png\", dpi=300)"
   ]
  },
  {
   "cell_type": "code",
   "execution_count": 123,
   "metadata": {},
   "outputs": [],
   "source": [
    "fig, ax = subplots(figsize=(7,7)) \n",
    "pos = ax.imshow(drhodt, cmap=\"hot\")\n",
    "fig.colorbar(pos, ax=ax)\n",
    "savefig(\"/Users/arun/Desktop/Plots/drdtprofile.png\", dpi=300)"
   ]
  },
  {
   "cell_type": "code",
   "execution_count": 86,
   "metadata": {},
   "outputs": [],
   "source": [
    "fig, ax = subplots(figsize=(7,7)) \n",
    "pos = ax.imshow(rho)\n",
    "fig.colorbar(pos, ax=ax)\n",
    "savefig(\"/Users/arun/Desktop/Plots/rhoprofile.png\", dpi=300)"
   ]
  },
  {
   "cell_type": "markdown",
   "metadata": {},
   "source": []
  },
  {
   "cell_type": "code",
   "execution_count": 56,
   "metadata": {},
   "outputs": [],
   "source": [
    "using LinearAlgebra\n",
    "using PyPlot\n",
    "using Dates\n",
    "fig, ax = subplots(figsize=(7,7)) \n",
    "\n",
    "#make bump on grid\n",
    "num_spaces = 100\n",
    "grid = zeros(Int8, num_spaces+1, num_spaces+1)\n",
    "centerx = 1\n",
    "centery = num_spaces/2 + 1\n",
    "radius = 10\n",
    "angles = collect(range(-pi/2, pi/2, num_spaces*2))\n",
    "ys = @. centery + radius * sin(angles)\n",
    "xs = @. centerx + radius * cos(angles)\n",
    "dx = 2 / num_spaces\n",
    "dt = 10^-5\n",
    "\n",
    "#parameters\n",
    "delta = 0.1\n",
    "epsilon = 0.05\n",
    "v = 0.1\n",
    "\n",
    "\n",
    "#initialize\n",
    "c = ones(Float64, num_spaces+1, num_spaces+1)\n",
    "rho = zeros(Float64, num_spaces+1, num_spaces+1)\n",
    "phi = zeros(Float64, num_spaces+1, num_spaces+1)\n",
    "\n",
    "\n",
    "#fill grid\n",
    "grid[:, 1] .= 1\n",
    "c[:, 1] .= 1\n",
    "###    for i in 1:length(xs)\n",
    "  #      grid[round(Int, ys[i]), 1:round(Int, xs[i])] .= 1\n",
    "  #      c[round(Int, ys[i]), 1:round(Int, xs[i])] .= 1\n",
    " #   end\n",
    "#\n",
    "#right boundary\n",
    "grid[:, end] .= 1\n",
    "c[:, end] .= 1\n",
    "\n",
    "#label special boundary points for gradient evaluation\n",
    "grid = parseGrid(grid)\n",
    "\n",
    "gradc = grad(c)\n",
    "gradrho = grad(rho)\n",
    "gradphi = grad(phi)\n",
    "grad2c = grad2(c)\n",
    "grad2rho = grad2(rho)\n",
    "grad2phi = grad2(phi)\n",
    "\n",
    "dcdt = 1\n",
    "drhodt = 1\n",
    "\n",
    "for time in 1:20000\n",
    "    ##enforce boundary conditions\n",
    "    #solve poissons equation\n",
    "    A, b = assemblePoisson(num_spaces, rho)\n",
    "    phi = reshape(A \\ b, num_spaces+1, num_spaces+1)\n",
    "    if time == 1\n",
    "        plot(collect(LinRange(0, 1, num_spaces+1)), phi[10, :], label=\"beginning\")\n",
    "    end\n",
    "    #enforcing no flux condition at boundary for all electrode-boundary cells\n",
    "    c_copy = copy(c)\n",
    "    rho_copy = copy(rho)\n",
    "    for i in 1:num_spaces+1\n",
    "        for j in 1:num_spaces+1\n",
    "            if grid[i, j] == 4\n",
    "                #vertical right\n",
    "                phipart = phi[i, j+1] - phi[i, j]\n",
    "                matrix = [1 -phipart; -phipart 1]\n",
    "                soln = [c_copy[i, j+1]; rho_copy[i, j+1]]\n",
    "                c[i, j], rho[i, j] = matrix \\ soln\n",
    "\n",
    "            elseif grid[i, j] == 5\n",
    "                #vertical left\n",
    "                phipart = phi[i, j-1] - phi[i, j]\n",
    "                matrix = [1 -phipart; -phipart 1]\n",
    "                soln = [c_copy[i, j-1]; rho_copy[i, j-1]]\n",
    "                c[i, j], rho[i, j] = matrix \\ soln\n",
    "\n",
    "            elseif grid[i, j] == 6\n",
    "                #diagonal down\n",
    "                phipart = phi[i, j+1] + phi[i+1, j] - 2*phi[i, j]\n",
    "                matrix = [2 -phipart; -phipart 2]\n",
    "                soln = [(c_copy[i, j+1] + c_copy[i+1, j]); (rho_copy[i, j+1] + rho_copy[i+1, j])]\n",
    "                c[i, j], rho[i, j] = matrix \\ soln\n",
    "\n",
    "            elseif grid[i, j] == 7\n",
    "                #diagonal up\n",
    "                phipart = phi[i, j+1] + phi[i-1, j] - 2*phi[i, j]\n",
    "                matrix = [2 -phipart; -phipart 2]\n",
    "                soln = [(c_copy[i, j+1] + c_copy[i-1, j]); (rho_copy[i, j+1] + rho_copy[i-1, j])]\n",
    "                c[i, j], rho[i, j] = matrix \\ soln\n",
    "\n",
    "            elseif grid[i, j] == 8\n",
    "                #horizontal up\n",
    "                phipart = phi[i-1, j] - phi[i, j]\n",
    "                matrix = [1 -phipart; -phipart 1]\n",
    "                soln = [c_copy[i-1, 1]; rho_copy[i-1, j]]\n",
    "                c[i, j], rho[i, j] = matrix \\ soln\n",
    "\n",
    "            elseif grid[i, j] == 9\n",
    "                #horizontal down\n",
    "                phipart = phi[i+1, j] - phi[i, j]\n",
    "                matrix = [1 -phipart; -phipart 1]\n",
    "                soln = [c_copy[i+1, 1]; rho_copy[i+1, j]]\n",
    "                c[i, j], rho[i, j] = matrix \\ soln\n",
    "                \n",
    "            end\n",
    "        end\n",
    "    end\n",
    "\n",
    "    #update c and rho; boundary is taken care of at the top of the loop\n",
    "    grad2c = grad2(c)\n",
    "    grad2rho = grad2(rho)\n",
    "    grad2phi = grad2(phi)\n",
    "\n",
    "    dcdt = epsilon .* (grad2c .+ graddotgrad(rho, phi) .+ (rho .* grad2phi))\n",
    "    drhodt = epsilon .* (grad2rho .+ graddotgrad(c, phi) .+ (c .* grad2phi))\n",
    "    c .+= (dcdt .* dt)\n",
    "    rho .+= (drhodt .* dt)\n",
    "end\n",
    "\n",
    "\n",
    "plot(collect(LinRange(0, 1, num_spaces+1)), phi[10, :], label=\"end\")\n",
    "plt.legend()\n",
    "savefig(\"/Users/arun/Desktop/Plots/testingphiprofile.png\", dpi=300)"
   ]
  },
  {
   "cell_type": "code",
   "execution_count": 23,
   "metadata": {},
   "outputs": [],
   "source": [
    "using PyPlot\n",
    "fig, ax = subplots(figsize=(7,7)) \n",
    "pos = ax.imshow(grid, cmap=\"hot\")\n",
    "fig.colorbar(pos, ax=ax)\n",
    "#plot(collect(LinRange(0, 1, num_spaces+1)), phi[500, :])\n",
    "savefig(\"/Users/arun/Desktop/Plots/parsedgrid.png\", dpi=300)\n"
   ]
  },
  {
   "cell_type": "code",
   "execution_count": null,
   "metadata": {},
   "outputs": [],
   "source": []
  }
 ],
 "metadata": {
  "kernelspec": {
   "display_name": "Julia 1.9.3",
   "language": "julia",
   "name": "julia-1.9"
  },
  "language_info": {
   "file_extension": ".jl",
   "mimetype": "application/julia",
   "name": "julia",
   "version": "1.9.3"
  },
  "orig_nbformat": 4
 },
 "nbformat": 4,
 "nbformat_minor": 2
}
