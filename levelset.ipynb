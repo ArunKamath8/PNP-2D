{
 "cells": [
  {
   "cell_type": "code",
   "execution_count": 3,
   "metadata": {},
   "outputs": [],
   "source": [
    "include(\"poisson.jl\")\n",
    "include(\"operators.jl\")\n",
    "include(\"labelGrid.jl\")\n",
    "include(\"boundaryConditions.jl\")\n",
    "using NearestNeighbors\n",
    "using Combinatorics"
   ]
  },
  {
   "cell_type": "code",
   "execution_count": 9,
   "metadata": {},
   "outputs": [
    {
     "data": {
      "text/plain": [
       "101×101 BitMatrix:\n",
       " 1  0  0  0  0  0  0  0  0  0  0  0  0  …  0  0  0  0  0  0  0  0  0  0  0  1\n",
       " 1  0  0  0  0  0  0  0  0  0  0  0  0     0  0  0  0  0  0  0  0  0  0  0  1\n",
       " 1  0  0  0  0  0  0  0  0  0  0  0  0     0  0  0  0  0  0  0  0  0  0  0  1\n",
       " 1  0  0  0  0  0  0  0  0  0  0  0  0     0  0  0  0  0  0  0  0  0  0  0  1\n",
       " 1  0  0  0  0  0  0  0  0  0  0  0  0     0  0  0  0  0  0  0  0  0  0  0  1\n",
       " 1  0  0  0  0  0  0  0  0  0  0  0  0  …  0  0  0  0  0  0  0  0  0  0  0  1\n",
       " 1  0  0  0  0  0  0  0  0  0  0  0  0     0  0  0  0  0  0  0  0  0  0  0  1\n",
       " 1  0  0  0  0  0  0  0  0  0  0  0  0     0  0  0  0  0  0  0  0  0  0  0  1\n",
       " 1  0  0  0  0  0  0  0  0  0  0  0  0     0  0  0  0  0  0  0  0  0  0  0  1\n",
       " 1  0  0  0  0  0  0  0  0  0  0  0  0     0  0  0  0  0  0  0  0  0  0  0  1\n",
       " ⋮              ⋮              ⋮        ⋱     ⋮              ⋮              ⋮\n",
       " 1  0  0  0  0  0  0  0  0  0  0  0  0     0  0  0  0  0  0  0  0  0  0  0  1\n",
       " 1  0  0  0  0  0  0  0  0  0  0  0  0     0  0  0  0  0  0  0  0  0  0  0  1\n",
       " 1  0  0  0  0  0  0  0  0  0  0  0  0     0  0  0  0  0  0  0  0  0  0  0  1\n",
       " 1  0  0  0  0  0  0  0  0  0  0  0  0  …  0  0  0  0  0  0  0  0  0  0  0  1\n",
       " 1  0  0  0  0  0  0  0  0  0  0  0  0     0  0  0  0  0  0  0  0  0  0  0  1\n",
       " 1  0  0  0  0  0  0  0  0  0  0  0  0     0  0  0  0  0  0  0  0  0  0  0  1\n",
       " 1  0  0  0  0  0  0  0  0  0  0  0  0     0  0  0  0  0  0  0  0  0  0  0  1\n",
       " 1  0  0  0  0  0  0  0  0  0  0  0  0     0  0  0  0  0  0  0  0  0  0  0  1\n",
       " 1  0  0  0  0  0  0  0  0  0  0  0  0  …  0  0  0  0  0  0  0  0  0  0  0  1"
      ]
     },
     "metadata": {},
     "output_type": "display_data"
    }
   ],
   "source": [
    "#define grid\n",
    "num_spaces = 100\n",
    "levelset = zeros(Float64, num_spaces+1, num_spaces+1)\n",
    "boundary = zeros(Int8, num_spaces+1, num_spaces+1)\n",
    "is_inside = zeros(Bool, num_spaces+1, num_spaces+1)\n",
    "\n",
    "#generates all sets of x, y\n",
    "x = vec(collect(Base.Iterators.product(Base.Iterators.repeated(1:num_spaces+1, 2)...)))\n",
    "\n",
    "#make wave on grid\n",
    "amplitude = 10\n",
    "frequency = 3\n",
    "num_surf_points = (num_spaces)*100\n",
    "startingx = amplitude\n",
    "xs = ones(Float64, num_surf_points)\n",
    "ys = collect(LinRange(1, num_spaces+1, num_surf_points))\n",
    "\n",
    "#add buffer before perturbation\n",
    "starty, endy = Int(num_surf_points * 0.2), Int(num_surf_points * 0.8) \n",
    "xs[starty:endy] .= @. amplitude + 1 + amplitude * cos(1/(ys[endy] - ys[starty])*(ys[starty:endy]-ys[starty]) * frequency * 2 * pi - pi)\n",
    "\n",
    "#add right hand boundary to list of boundary points\n",
    "xs = vcat(xs, ones(Float64, num_surf_points) .+ num_spaces)\n",
    "ys = vcat(ys, collect(LinRange(1, num_spaces+1, num_surf_points)))\n",
    "\n",
    "#make KDTree of surface points\n",
    "tree = KDTree(transpose(hcat(xs, ys)))\n",
    "\n",
    "#define grid points\n",
    "gridx = first.(x)\n",
    "gridy = last.(x)\n",
    "points = transpose(hcat(gridx, gridy))\n",
    "\n",
    "#find distance of each point to the surface\n",
    "_, distances = knn(tree, points, 1)\n",
    "\n",
    "#set grid points to distance from surface\n",
    "for i in 1:length(x)\n",
    "    xcoord = x[i][1]\n",
    "    ycoord = num_spaces+1 - (x[i][2] - 1)\n",
    "    levelset[ycoord, xcoord] = distances[i][1]\n",
    "end\n",
    "\n",
    "#set all points inside the bump to \"is inside\"\n",
    "for i in 1:Int(length(xs)/2)\n",
    "    is_inside[num_spaces+1 - (round(Int, ys[i]) - 1), 1:floor(Int, xs[i])] .= true\n",
    "end\n",
    "\n",
    "#if inside the surface, set levelset to a negative value\n",
    "levelset = ifelse.(is_inside, -levelset, levelset)\n",
    "\n",
    "#define boundary points as those <= 0 in levelset\n",
    "levelset[:,  end] .= 0\n",
    "boundary = levelset .<= 0\n",
    "boundary[:, end] .= 1"
   ]
  },
  {
   "cell_type": "code",
   "execution_count": 10,
   "metadata": {},
   "outputs": [
    {
     "data": {
      "text/plain": [
       "10201×10201 SparseMatrixCSC{Float64, Int64} with 47361 stored entries:\n",
       "⎡⠳⣦⡀⠀⠀⠀⠀⠀⠀⠀⠀⠀⠀⠀⠀⠀⠀⠀⠀⠀⠀⠀⠀⠀⠀⠀⠀⠀⠀⠀⠀⠀⠀⠀⠀⠀⠀⠀⠀⠀⎤\n",
       "⎢⠀⠈⠻⣦⡀⠀⠀⠀⠀⠀⠀⠀⠀⠀⠀⠀⠀⠀⠀⠀⠀⠀⠀⠀⠀⠀⠀⠀⠀⠀⠀⠀⠀⠀⠀⠀⠀⠀⠀⠀⎥\n",
       "⎢⠀⠀⠀⠈⠻⣦⡀⠀⠀⠀⠀⠀⠀⠀⠀⠀⠀⠀⠀⠀⠀⠀⠀⠀⠀⠀⠀⠀⠀⠀⠀⠀⠀⠀⠀⠀⠀⠀⠀⠀⎥\n",
       "⎢⠀⠀⠀⠀⠀⠈⠻⣦⡀⠀⠀⠀⠀⠀⠀⠀⠀⠀⠀⠀⠀⠀⠀⠀⠀⠀⠀⠀⠀⠀⠀⠀⠀⠀⠀⠀⠀⠀⠀⠀⎥\n",
       "⎢⠀⠀⠀⠀⠀⠀⠀⠈⠻⣦⡀⠀⠀⠀⠀⠀⠀⠀⠀⠀⠀⠀⠀⠀⠀⠀⠀⠀⠀⠀⠀⠀⠀⠀⠀⠀⠀⠀⠀⠀⎥\n",
       "⎢⠀⠀⠀⠀⠀⠀⠀⠀⠀⠈⠻⣦⡀⠀⠀⠀⠀⠀⠀⠀⠀⠀⠀⠀⠀⠀⠀⠀⠀⠀⠀⠀⠀⠀⠀⠀⠀⠀⠀⠀⎥\n",
       "⎢⠀⠀⠀⠀⠀⠀⠀⠀⠀⠀⠀⠈⠻⣦⡀⠀⠀⠀⠀⠀⠀⠀⠀⠀⠀⠀⠀⠀⠀⠀⠀⠀⠀⠀⠀⠀⠀⠀⠀⠀⎥\n",
       "⎢⠀⠀⠀⠀⠀⠀⠀⠀⠀⠀⠀⠀⠀⠈⠻⣦⡀⠀⠀⠀⠀⠀⠀⠀⠀⠀⠀⠀⠀⠀⠀⠀⠀⠀⠀⠀⠀⠀⠀⠀⎥\n",
       "⎢⠀⠀⠀⠀⠀⠀⠀⠀⠀⠀⠀⠀⠀⠀⠀⠈⠻⣦⡀⠀⠀⠀⠀⠀⠀⠀⠀⠀⠀⠀⠀⠀⠀⠀⠀⠀⠀⠀⠀⠀⎥\n",
       "⎢⠀⠀⠀⠀⠀⠀⠀⠀⠀⠀⠀⠀⠀⠀⠀⠀⠀⠈⠻⣦⡀⠀⠀⠀⠀⠀⠀⠀⠀⠀⠀⠀⠀⠀⠀⠀⠀⠀⠀⠀⎥\n",
       "⎢⠀⠀⠀⠀⠀⠀⠀⠀⠀⠀⠀⠀⠀⠀⠀⠀⠀⠀⠀⠈⠻⣦⡀⠀⠀⠀⠀⠀⠀⠀⠀⠀⠀⠀⠀⠀⠀⠀⠀⠀⎥\n",
       "⎢⠀⠀⠀⠀⠀⠀⠀⠀⠀⠀⠀⠀⠀⠀⠀⠀⠀⠀⠀⠀⠀⠈⠻⣦⡀⠀⠀⠀⠀⠀⠀⠀⠀⠀⠀⠀⠀⠀⠀⠀⎥\n",
       "⎢⠀⠀⠀⠀⠀⠀⠀⠀⠀⠀⠀⠀⠀⠀⠀⠀⠀⠀⠀⠀⠀⠀⠀⠈⠻⣦⡀⠀⠀⠀⠀⠀⠀⠀⠀⠀⠀⠀⠀⠀⎥\n",
       "⎢⠀⠀⠀⠀⠀⠀⠀⠀⠀⠀⠀⠀⠀⠀⠀⠀⠀⠀⠀⠀⠀⠀⠀⠀⠀⠈⠻⣦⡀⠀⠀⠀⠀⠀⠀⠀⠀⠀⠀⠀⎥\n",
       "⎢⠀⠀⠀⠀⠀⠀⠀⠀⠀⠀⠀⠀⠀⠀⠀⠀⠀⠀⠀⠀⠀⠀⠀⠀⠀⠀⠀⠈⠻⣦⡀⠀⠀⠀⠀⠀⠀⠀⠀⠀⎥\n",
       "⎢⠀⠀⠀⠀⠀⠀⠀⠀⠀⠀⠀⠀⠀⠀⠀⠀⠀⠀⠀⠀⠀⠀⠀⠀⠀⠀⠀⠀⠀⠈⠻⣦⡀⠀⠀⠀⠀⠀⠀⠀⎥\n",
       "⎢⠀⠀⠀⠀⠀⠀⠀⠀⠀⠀⠀⠀⠀⠀⠀⠀⠀⠀⠀⠀⠀⠀⠀⠀⠀⠀⠀⠀⠀⠀⠀⠈⠻⣦⡀⠀⠀⠀⠀⠀⎥\n",
       "⎢⠀⠀⠀⠀⠀⠀⠀⠀⠀⠀⠀⠀⠀⠀⠀⠀⠀⠀⠀⠀⠀⠀⠀⠀⠀⠀⠀⠀⠀⠀⠀⠀⠀⠈⠻⣦⡀⠀⠀⠀⎥\n",
       "⎢⠀⠀⠀⠀⠀⠀⠀⠀⠀⠀⠀⠀⠀⠀⠀⠀⠀⠀⠀⠀⠀⠀⠀⠀⠀⠀⠀⠀⠀⠀⠀⠀⠀⠀⠀⠈⠻⣦⡀⠀⎥\n",
       "⎣⠀⠀⠀⠀⠀⠀⠀⠀⠀⠀⠀⠀⠀⠀⠀⠀⠀⠀⠀⠀⠀⠀⠀⠀⠀⠀⠀⠀⠀⠀⠀⠀⠀⠀⠀⠀⠀⠈⠻⢆⎦"
      ]
     },
     "metadata": {},
     "output_type": "display_data"
    }
   ],
   "source": [
    "#parameters\n",
    "delta = 0.1\n",
    "epsilon = 0.05\n",
    "v = 0.1\n",
    "kf = 2E-6 * 1E-4/(2 * 1E-9)\n",
    "kb = 0\n",
    "Cb = 3.796E-6\n",
    "dx = 2/num_spaces\n",
    "\n",
    "#find which cells are next to electrode\n",
    "boundary_label, boundary_indices = parseGrid(boundary)\n",
    "\n",
    "#define normal vector at boudary cells\n",
    "nx, ny = norms(levelset, boundary_indices)\n",
    "\n",
    "#initialize fields\n",
    "c = ones(Float64, num_spaces+1, num_spaces+1)\n",
    "rho = zeros(Float64, num_spaces+1, num_spaces+1)\n",
    "phi = zeros(Float64, num_spaces+1, num_spaces+1)\n",
    "\n",
    "#define poisson matrix\n",
    "A_matrix = assemblePoissonA(num_spaces, nx, ny)"
   ]
  },
  {
   "cell_type": "code",
   "execution_count": 11,
   "metadata": {},
   "outputs": [],
   "source": [
    "dt = 10^-3\n",
    "Rs = []\n",
    "for time in 1:1000\n",
    "    #solve poissons equation\n",
    "    b = assemblePoissonb(num_spaces, rho)\n",
    "    phi = reshape(A_matrix \\ b, num_spaces+1, num_spaces+1)\n",
    "\n",
    "    #enforcing no flux condition at boundary for all electrode-boundary cells\n",
    "    #c, rho, Rs = enforceBV(c, rho, phi, nx, ny, boundary_indices)\n",
    "    c, rho = enforceNoFlux(c, rho, phi, nx, ny, boundary_indices)\n",
    "    \n",
    "    #update c and rho; boundary is taken care of at the top of the loop\n",
    "    grad2c = grad2(c)\n",
    "    grad2rho = grad2(rho)\n",
    "    grad2phi = grad2(phi)\n",
    "\n",
    "    dcdt = epsilon .* (grad2c .+ graddotgrad(rho, phi) .+ (rho .* grad2phi))\n",
    "    drhodt = epsilon .* (grad2rho .+ graddotgrad(c, phi) .+ (c .* grad2phi))\n",
    "    c .+= (dcdt .* dt)\n",
    "    rho .+= (drhodt .* dt)\n",
    "end"
   ]
  },
  {
   "cell_type": "code",
   "execution_count": 12,
   "metadata": {},
   "outputs": [],
   "source": [
    "using PyPlot\n",
    "fig, ax = subplots(figsize=(7,7)) \n",
    "pos = ax.imshow(phi)\n",
    "fig.colorbar(pos, ax=ax)\n",
    "#scatter(xs .- 1, ys .- 1, s=.01)\n",
    "ylabel(\"y\")\n",
    "xlabel(\"x\")\n",
    "title(\"phi\")\n",
    "savefig(\"/Users/arun/Desktop/Plots/phi.png\", dpi=300)"
   ]
  },
  {
   "cell_type": "code",
   "execution_count": 13,
   "metadata": {},
   "outputs": [],
   "source": [
    "using PyPlot\n",
    "fig, ax = subplots(figsize=(7,7)) \n",
    "plot(collect(LinRange(-1, 1, num_spaces+1)), phi[50, :], label=\"middle cutline\")\n",
    "plot(collect(LinRange(-1, 1, num_spaces+1)), phi[1, :], label=\"edge cutline\")\n",
    "ylabel(\"y\")\n",
    "xlabel(\"x\")\n",
    "title(\"phi\")\n",
    "legend()\n",
    "savefig(\"/Users/arun/Desktop/Plots/phicutlines.png\", dpi=300)"
   ]
  },
  {
   "cell_type": "code",
   "execution_count": 9,
   "metadata": {},
   "outputs": [],
   "source": [
    "reaction_rate_map = zeros(Float64, num_spaces+1, num_spaces+1)\n",
    "for index in 1:length(b_ind)\n",
    "    i = b_ind[index][1]\n",
    "    j = b_ind[index][2]\n",
    "    reaction_rate_map[i, j] = Rs[index]\n",
    "    levelset[i, j] += Rs[index]\n",
    "end"
   ]
  }
 ],
 "metadata": {
  "kernelspec": {
   "display_name": "Julia 1.9.3",
   "language": "julia",
   "name": "julia-1.9"
  },
  "language_info": {
   "file_extension": ".jl",
   "mimetype": "application/julia",
   "name": "julia",
   "version": "1.9.3"
  },
  "orig_nbformat": 4
 },
 "nbformat": 4,
 "nbformat_minor": 2
}
